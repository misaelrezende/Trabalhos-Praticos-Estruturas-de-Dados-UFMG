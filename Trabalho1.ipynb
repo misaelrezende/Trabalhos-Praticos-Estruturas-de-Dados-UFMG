{
 "cells": [
  {
   "cell_type": "markdown",
   "metadata": {},
   "source": [
    "# Trabalho 1"
   ]
  },
  {
   "cell_type": "code",
   "execution_count": 1,
   "metadata": {},
   "outputs": [],
   "source": [
    "import os\n",
    "\n",
    "from gensim.models import Word2Vec\n",
    "from gensim.test.utils import datapath\n",
    "from gensim import utils"
   ]
  },
  {
   "cell_type": "markdown",
   "metadata": {},
   "source": [
    "### Preprocessing\n",
    "- How to treat punctuation?\n",
    "- Working with lowercase words is better\n",
    "- I guess tokenizing only words, that is, split by spaces is a good start\n",
    "\n",
    "#### CBOW\n",
    "- Given an one-hot encoded input (one token), outputs k one-hot encoded tokens\n",
    "- \"Costuma ser bom para corpus pequeno\"\n",
    "#### Skip-Gram\n",
    "- \"Costuma ser bom para corpus maiores\""
   ]
  },
  {
   "cell_type": "markdown",
   "metadata": {},
   "source": [
    "## Choices\n",
    "- Context size (window size)\n",
    "    - `window` arg: it's the number of words before and after the target word that the model will consider as context. The default value is 5.\n",
    "- Training size\n",
    "- CBOW vs Skip-Gram\n",
    "    - `sg` arg: 0 for CBOW, 1 for Skip-Gram. The default value is 0.\n",
    "- Embedding size\n",
    "    - `vector_size` arg: it's the size of the embedding vector. The default value is 100."
   ]
  },
  {
   "cell_type": "markdown",
   "metadata": {},
   "source": [
    "## Training"
   ]
  },
  {
   "cell_type": "code",
   "execution_count": 47,
   "metadata": {},
   "outputs": [],
   "source": [
    "corpus = \"text8\"\n",
    "corpus_path = os.path.join(os.getcwd(), corpus)\n",
    "\n",
    "class MyCorpus:\n",
    "    \"\"\"An iterator that yields sentences (lists of str).\"\"\"\n",
    "    def __init__(self, corpus, skip_lines: None | list=None):\n",
    "        self.corpus = corpus\n",
    "        self.skip_lines = skip_lines\n",
    "\n",
    "    def __iter__(self):\n",
    "        corpus_path = datapath(self.corpus)\n",
    "        for line in open(corpus_path):\n",
    "            # Skip lines\n",
    "            if self.skip_lines is not None and line.startswith(self.skip_lines):\n",
    "                continue\n",
    "            # assume there's one document per line, tokens separated by whitespace\n",
    "            preprocessed_line = self._preprocess_text(line)\n",
    "            yield utils.simple_preprocess(preprocessed_line)\n",
    "\n",
    "    def _preprocess_text(self, text):\n",
    "        text = text.lower()\n",
    "        return text\n",
    "\n",
    "    def __len__(self):\n",
    "        return sum(1 for _ in self)\n",
    "\n",
    "sentences = MyCorpus(corpus_path) # TODO: Does my train corpus has words with accents, different punctuation, etc?\n",
    "# vector_size is the number of dimensions (N) of the N-dimensional space that gensim Word2Vec maps the words onto.\n",
    "# The default value of vector_size is 100.\n",
    "model = Word2Vec(sentences=sentences)"
   ]
  },
  {
   "cell_type": "code",
   "execution_count": 52,
   "metadata": {},
   "outputs": [
    {
     "name": "stdout",
     "output_type": "stream",
     "text": [
      "vocabulary size: 70965\n",
      "word #0/70965 is the\n",
      "word #1/70965 is of\n",
      "word #2/70965 is and\n",
      "word #3/70965 is one\n",
      "word #4/70965 is in\n",
      "word #5/70965 is to\n",
      "word #6/70965 is zero\n",
      "word #7/70965 is nine\n",
      "word #8/70965 is two\n",
      "word #9/70965 is is\n"
     ]
    }
   ],
   "source": [
    "vec_king = model.wv['king']\n",
    "vec_king.size\n",
    "\n",
    "# retrieve the vocabulary\n",
    "vocabulary = model.wv.key_to_index\n",
    "print(f\"vocabulary size: {len(vocabulary)}\")\n",
    "\n",
    "for index, word in enumerate(model.wv.index_to_key):\n",
    "    if index == 10:\n",
    "        break\n",
    "    print(f\"word #{index}/{len(model.wv.index_to_key)} is {word}\")"
   ]
  },
  {
   "cell_type": "markdown",
   "metadata": {},
   "source": [
    "## Evaluation\n",
    "#### Load evaluation corpus"
   ]
  },
  {
   "cell_type": "code",
   "execution_count": 48,
   "metadata": {},
   "outputs": [
    {
     "name": "stdout",
     "output_type": "stream",
     "text": [
      "Evaluation corpus size: 19544\n"
     ]
    }
   ],
   "source": [
    "evaluation_corpus_path = os.path.join(os.getcwd(), \"questions-words.txt\")\n",
    "evaluation_sentences = MyCorpus(evaluation_corpus_path, skip_lines=\":\")\n",
    "\n",
    "print(f\"Evaluation corpus size: {evaluation_sentences.__len__()}\")"
   ]
  },
  {
   "cell_type": "markdown",
   "metadata": {},
   "source": [
    "### Downstream application: Semantic Analogy task"
   ]
  },
  {
   "cell_type": "code",
   "execution_count": 51,
   "metadata": {},
   "outputs": [
    {
     "name": "stdout",
     "output_type": "stream",
     "text": [
      "Skipped some words that were not in the vocabulary\n",
      "Skipped 1717 words (lines), which is 8.79% of the corpus size\n",
      "Average distance:  0.00023354751909435584\n"
     ]
    }
   ],
   "source": [
    "def are_words_in_vocabulary(words, vocabulary):\n",
    "    \"\"\"Check if all words are in the vocabulary\\\n",
    "    Arguments:\n",
    "        words (list): list of words to check\n",
    "        vocabulary (dict): vocabulary\n",
    "    Returns:\n",
    "        bool: True if all words are in the vocabulary, False otherwise\n",
    "    \"\"\"\n",
    "    return all(word in vocabulary for word in words)\n",
    "\n",
    "# Initialize total distance\n",
    "total_distance = 0\n",
    "skipped_words = 0\n",
    "\n",
    "for words in evaluation_sentences:\n",
    "    # skip if any of the words are not on the vocabulary\n",
    "    # if not all(word in vocabulary for word in words):\n",
    "    if not are_words_in_vocabulary(words, vocabulary):\n",
    "        skipped_words += 1\n",
    "        continue\n",
    "\n",
    "    first_two_words = words[:2]\n",
    "    third_word = words[2]\n",
    "    last_word = words[3]\n",
    "    # Get the most similar word\n",
    "    most_similar = model.wv.most_similar(positive=first_two_words, negative=third_word)[0][0]\n",
    "\n",
    "    # Compute the similarity between the most similar word and the correct word\n",
    "    similarity = model.wv.similarity(most_similar, last_word)\n",
    "    total_distance += similarity\n",
    "\n",
    "lines_not_used = (skipped_words*100)/evaluation_sentences.__len__()\n",
    "if lines_not_used > 0:\n",
    "    print(\"Skipped some words that were not in the vocabulary\")\n",
    "    print(f\"Skipped {skipped_words} words (lines), which is {lines_not_used:.2f}% of the corpus size\")\n",
    "\n",
    "# recalculate evaluation corpus size, removing the skipped words\n",
    "evaluation_corpus_size = evaluation_sentences.__len__() - skipped_words\n",
    "# Compute the average distance\n",
    "average_distance = total_distance / evaluation_corpus_size\n",
    "\n",
    "print(\"Average distance: \", average_distance)"
   ]
  }
 ],
 "metadata": {
  "kernelspec": {
   "display_name": "general",
   "language": "python",
   "name": "python3"
  },
  "language_info": {
   "codemirror_mode": {
    "name": "ipython",
    "version": 3
   },
   "file_extension": ".py",
   "mimetype": "text/x-python",
   "name": "python",
   "nbconvert_exporter": "python",
   "pygments_lexer": "ipython3",
   "version": "3.11.6"
  }
 },
 "nbformat": 4,
 "nbformat_minor": 2
}
