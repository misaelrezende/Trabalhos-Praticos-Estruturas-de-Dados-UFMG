{
 "cells": [
  {
   "cell_type": "markdown",
   "metadata": {},
   "source": [
    "# Trabalho 1"
   ]
  },
  {
   "cell_type": "code",
   "execution_count": 1,
   "metadata": {},
   "outputs": [],
   "source": [
    "import os\n",
    "\n",
    "from gensim.models import Word2Vec\n",
    "from gensim.test.utils import datapath\n",
    "from gensim import utils"
   ]
  },
  {
   "cell_type": "markdown",
   "metadata": {},
   "source": [
    "### Preprocessing\n",
    "- How to treat punctuation?\n",
    "- Working with lowercase words is better\n",
    "- I guess tokenizing only words, that is, split by spaces is a good start\n",
    "\n",
    "#### CBOW\n",
    "- Given an one-hot encoded input (one token), outputs k one-hot encoded tokens\n",
    "- \"Costuma ser bom para corpus pequeno\"\n",
    "#### Skip-Gram\n",
    "- \"Costuma ser bom para corpus maiores\""
   ]
  },
  {
   "cell_type": "code",
   "execution_count": 2,
   "metadata": {},
   "outputs": [],
   "source": [
    "corpus = \"text8\"\n",
    "corpus_path = os.path.join(os.getcwd(), corpus)\n",
    "\n",
    "class MyCorpus:\n",
    "    \"\"\"An iterator that yields sentences (lists of str).\"\"\"\n",
    "    def __init__(self, corpus):\n",
    "        self.corpus = corpus\n",
    "\n",
    "    def __iter__(self):\n",
    "        corpus_path = datapath(self.corpus)\n",
    "        for line in open(corpus_path):\n",
    "            # assume there's one document per line, tokens separated by whitespace\n",
    "            preprocessed_line = self._preprocess_text(line)\n",
    "            yield utils.simple_preprocess(preprocessed_line)\n",
    "\n",
    "    def _preprocess_text(self, text):\n",
    "        text = text.lower()\n",
    "        return text\n",
    "\n",
    "\n",
    "sentences = MyCorpus(corpus_path)\n",
    "# vector_size is the number of dimensions (N) of the N-dimensional space that gensim Word2Vec maps the words onto.\n",
    "# The default value of vector_size is 100.\n",
    "model = Word2Vec(sentences=sentences)"
   ]
  },
  {
   "cell_type": "code",
   "execution_count": 3,
   "metadata": {},
   "outputs": [
    {
     "name": "stdout",
     "output_type": "stream",
     "text": [
      "vocabulary size: 70965\n",
      "word #0/70965 is the\n",
      "word #1/70965 is of\n",
      "word #2/70965 is and\n",
      "word #3/70965 is one\n",
      "word #4/70965 is in\n",
      "word #5/70965 is to\n",
      "word #6/70965 is zero\n",
      "word #7/70965 is nine\n",
      "word #8/70965 is two\n",
      "word #9/70965 is is\n"
     ]
    }
   ],
   "source": [
    "vec_king = model.wv['king']\n",
    "vec_king.size\n",
    "\n",
    "# retrieve the vocabulary\n",
    "vocabulary = model.wv.key_to_index\n",
    "print(f\"vocabulary size: {len(vocabulary)}\")\n",
    "\n",
    "for index, word in enumerate(model.wv.index_to_key):\n",
    "    if index == 10:\n",
    "        break\n",
    "    print(f\"word #{index}/{len(model.wv.index_to_key)} is {word}\")"
   ]
  }
 ],
 "metadata": {
  "kernelspec": {
   "display_name": "general",
   "language": "python",
   "name": "python3"
  },
  "language_info": {
   "codemirror_mode": {
    "name": "ipython",
    "version": 3
   },
   "file_extension": ".py",
   "mimetype": "text/x-python",
   "name": "python",
   "nbconvert_exporter": "python",
   "pygments_lexer": "ipython3",
   "version": "3.11.6"
  }
 },
 "nbformat": 4,
 "nbformat_minor": 2
}
